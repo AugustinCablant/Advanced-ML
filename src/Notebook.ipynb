{
 "cells": [
  {
   "cell_type": "code",
   "execution_count": 1,
   "metadata": {},
   "outputs": [],
   "source": [
    "from utils import ActionGenerator\n",
    "from utils.plot_regret import plot_regret \n",
    "from utils.Play import play \n",
    "from utils.Experiment import experiment\n",
    "from Agents.UCB import UCB\n",
    "from Agents.RB_agent import RegretBalancingAgent\n",
    "from environments.BanditEnv import BanditEnv\n",
    "from environments.BernoulliBanditEnv import BernoulliBanditEnv\n",
    "from kaggle_environments import make, evaluate\n",
    "import gymnasium as gym\n",
    "import matplotlib.pyplot as plt\n",
    "import numpy as np"
   ]
  },
  {
   "cell_type": "markdown",
   "metadata": {},
   "source": [
    "# Regret Balancing for Bandits : Experience 1 "
   ]
  },
  {
   "cell_type": "code",
   "execution_count": 2,
   "metadata": {},
   "outputs": [
    {
     "ename": "TypeError",
     "evalue": "play() takes 4 positional arguments but 5 were given",
     "output_type": "error",
     "traceback": [
      "\u001b[0;31m---------------------------------------------------------------------------\u001b[0m",
      "\u001b[0;31mTypeError\u001b[0m                                 Traceback (most recent call last)",
      "Cell \u001b[0;32mIn[2], line 11\u001b[0m\n\u001b[1;32m      9\u001b[0m T \u001b[38;5;241m=\u001b[39m \u001b[38;5;241m1000\u001b[39m  \u001b[38;5;66;03m# Number of rounds\u001b[39;00m\n\u001b[1;32m     10\u001b[0m agents \u001b[38;5;241m=\u001b[39m [ucb_agent, rb_agent]\n\u001b[0;32m---> 11\u001b[0m all_data \u001b[38;5;241m=\u001b[39m experiment(env, agents, Nmc, T, pseudo_regret\u001b[38;5;241m=\u001b[39m\u001b[38;5;28;01mTrue\u001b[39;00m)\n\u001b[1;32m     12\u001b[0m \u001b[38;5;66;03m# Plot results\u001b[39;00m\n\u001b[1;32m     13\u001b[0m plot_regret(regrets \u001b[38;5;241m=\u001b[39m all_data, logscale \u001b[38;5;241m=\u001b[39m \u001b[38;5;28;01mFalse\u001b[39;00m, lb \u001b[38;5;241m=\u001b[39m \u001b[38;5;28;01mNone\u001b[39;00m, q \u001b[38;5;241m=\u001b[39m \u001b[38;5;241m10\u001b[39m)\n",
      "File \u001b[0;32m~/Documents/GitHub/Advanced-ML/src/utils/Experiment.py:11\u001b[0m, in \u001b[0;36mexperiment\u001b[0;34m(environment, agents, Nmc, T, pseudo_regret)\u001b[0m\n\u001b[1;32m      8\u001b[0m all_data \u001b[38;5;241m=\u001b[39m {}\n\u001b[1;32m     10\u001b[0m \u001b[38;5;28;01mfor\u001b[39;00m agent \u001b[38;5;129;01min\u001b[39;00m agents:\n\u001b[0;32m---> 11\u001b[0m     agent_id, regrets \u001b[38;5;241m=\u001b[39m play(environment, agent,Nmc, T,pseudo_regret)\n\u001b[1;32m     13\u001b[0m     all_data[agent_id] \u001b[38;5;241m=\u001b[39m regrets\n\u001b[1;32m     15\u001b[0m \u001b[38;5;28;01mreturn\u001b[39;00m all_data\n",
      "\u001b[0;31mTypeError\u001b[0m: play() takes 4 positional arguments but 5 were given"
     ]
    }
   ],
   "source": [
    "n_arms = 4\n",
    "means = [0.1, 0.2, 0.3, 0.4]\n",
    "n_rounds = 1000\n",
    "delta = 0.1\n",
    "env = BernoulliBanditEnv(means = means)\n",
    "ucb_agent = UCB(K = len(means), var = 1.0)\n",
    "rb_agent = RegretBalancingAgent(K = len(means), delta = delta)\n",
    "Nmc = 100  # Number of Monte Carlo simulations\n",
    "T = 1000  # Number of rounds\n",
    "agents = [ucb_agent, rb_agent]\n",
    "all_data = experiment(env, agents, Nmc, T)\n",
    "# Plot results\n",
    "plot_regret(regrets = all_data, logscale = False, lb = None, q = 10)"
   ]
  },
  {
   "cell_type": "code",
   "execution_count": null,
   "metadata": {},
   "outputs": [],
   "source": []
  }
 ],
 "metadata": {
  "kernelspec": {
   "display_name": "base",
   "language": "python",
   "name": "python3"
  },
  "language_info": {
   "codemirror_mode": {
    "name": "ipython",
    "version": 3
   },
   "file_extension": ".py",
   "mimetype": "text/x-python",
   "name": "python",
   "nbconvert_exporter": "python",
   "pygments_lexer": "ipython3",
   "version": "3.12.4"
  }
 },
 "nbformat": 4,
 "nbformat_minor": 2
}
